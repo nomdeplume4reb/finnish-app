{
 "cells": [
  {
   "cell_type": "code",
   "execution_count": 42,
   "id": "effective-participation",
   "metadata": {},
   "outputs": [],
   "source": [
    "# Import necessary modules\n",
    "\n",
    "from nltk.tokenize import sent_tokenize\n",
    "from nltk.tokenize import word_tokenize\n",
    "from nltk.tokenize import RegexpTokenizer\n",
    "from random import randint\n",
    "import re\n",
    "#from libvoikko import Voikko\n",
    "#import libvoikko\n",
    "import pandas as pd # library for data analysis\n",
    "import requests # library to handle requests\n",
    "from bs4 import BeautifulSoup # library to parse HTML documents\n"
   ]
  },
  {
   "cell_type": "code",
   "execution_count": null,
   "id": "written-example",
   "metadata": {},
   "outputs": [],
   "source": [
    "# Scrape articles from Yle\n",
    "\n",
    "yle_url = 'https://yle.fi/uutiset/osasto/selkouutiset/'\n",
    "\n",
    "response=requests.get(yle_url)\n",
    "\n",
    "soup = BeautifulSoup(response.text, 'html.parser')\n",
    "\n",
    "results = soup.find(\"div\", {\"class\": \"text\"})\n",
    "\n",
    "yle_articles = results.findAll(text=True)\n",
    "\n",
    "#removing headlines and cleaning characters from scraped text\n",
    "h3s = results.findAll('h3')\n",
    "headlines = []\n",
    "\n",
    "for h3 in h3s:\n",
    "    temp = str(h3)\n",
    "    temp = temp.replace('<h3>', '')\n",
    "    temp = temp.replace('</h3>', '')\n",
    "    headlines.append(temp)\n",
    "    del temp\n",
    "\n",
    "unwanted_text = ['+ ', '–', '\\n', '–\\n', 'TV:n selkouutisilla on kesätauko. ', \\\n",
    "                  '(',')', ')\\n', ';', '-\"-\\n', '; ']\n",
    "\n",
    "unwanted_text = unwanted_text + headlines\n",
    "\n",
    "article_list = [char for char in yle_articles if char not in unwanted_text]\n",
    "\n",
    "article_list = [sent for sent in article_list if not '\\n' in sent]"
   ]
  },
  {
   "cell_type": "code",
   "execution_count": null,
   "id": "environmental-detective",
   "metadata": {},
   "outputs": [],
   "source": [
    "pattern = RegexpTokenizer(r'\\w+')\n",
    "\n",
    "# Split into sentences\n",
    "\n",
    "num = randint(0, len(article_list)-1)\n",
    "\n",
    "sentence = article_list[num]\n",
    "\n",
    "# Tokenize sentence, remove punctuation, numbers, and capitalized words (to avoid proper nouns).\n",
    "\n",
    "tokenized_sent = pattern.tokenize(sentence)\n",
    "\n",
    "tokenized_sent = [word for word in tokenized_sent if re.sub(r'[0-9]', '', word)]\n",
    "\n",
    "tokenized_sent = [word for word in tokenized_sent if not word[0].isupper()]\n",
    "\n",
    "num = randint(0, len(tokenized_sent)-1)\n",
    "\n",
    "word = tokenized_sent[num]\n",
    "\n",
    "print(word)"
   ]
  },
  {
   "cell_type": "code",
   "execution_count": null,
   "id": "increasing-clone",
   "metadata": {},
   "outputs": [],
   "source": [
    "#INSERT VOIKKO HERE"
   ]
  },
  {
   "cell_type": "code",
   "execution_count": null,
   "id": "flush-radius",
   "metadata": {},
   "outputs": [],
   "source": [
    "#Extract the base form\n",
    "#word_baseform = voikko_dict[0]['BASEFORM']\n",
    "cases = []\n",
    "\n",
    "word_baseform = \"tarina\"\n",
    "word_class = 'nimisana'\n",
    "\n",
    "#word_baseform = voikko_obj[0].get('BASEFORM')\n",
    "#word_class = voikko_obj[0].get('CLASS')\n",
    "\n",
    "wikiurl = ''\n",
    "\n",
    "if word_class == 'teosana':\n",
    "    wikiurl = 'https://fi.wiktionary.org/wiki/Liite:Verbitaivutus/suomi/'+ word_baseform\n",
    "elif word_class == 'nimisana':\n",
    "    wikiurl = 'https://fi.wiktionary.org/wiki/'+ word_baseform + '#Taivutus'\n",
    "elif word_class == 'laatusana':\n",
    "    wikiurl = 'https://fi.wiktionary.org/wiki/Liite:Adjektiivitaivutus/suomi/'+ word_baseform\n",
    "\n",
    "# get the response in the form of html\n",
    "\n",
    "\n",
    "table_class=\"wikitable sortable jquery-tablesorter\"\n",
    "\n",
    "response=requests.get(wikiurl)\n",
    "\n",
    "# parse data from the html into a beautifulsoup object\n",
    "\n",
    "soup = BeautifulSoup(response.text, 'html.parser')\n",
    "\n",
    "wikitable=soup.find('table',{'class':\"wikitable\"})\n",
    "\n",
    "table_contents = wikitable.findAll(text=True)\n",
    "\n",
    "unwanted_chars = [word, '+ ', '–', '\\n', '–\\n', 'Taivutus\\n', 'sijamuoto', 'nominatiivi', 'genetiivi', 'partitiivi', \\\n",
    "                  'akkusatiivi', 'sisäpaikallissijat', 'inessiivi', 'elatiivi', 'illatiivi', 'ulkopaikallissijat', \\\n",
    "                  'adessiivi', 'ablatiivi', 'allatiivi', 'essiivi', 'translatiivi', 'abessiivi', 'instruktiivi', \\\n",
    "                  'komitatiivi', 'positiivi', 'sijamuoto', 'yksikkö', 'monikko', 'kieliopilliset sijamuodot\\n', \\\n",
    "                  'sisäpaikallissijat\\n', 'ulkopaikallissijat\\n', 'muut sijamuodot\\n', 'omistusliite', 'monikko\\n', \\\n",
    "                  'Positiivi', 'Komparatiivi', 'Superlatiivi', 'muut\\n','(',')', ')\\n', ';', 'Indikatiivi\\n', 'preesens\\n', \\\n",
    "                  'perfekti\\n', 'persoona\\n', 'myönteinen\\n', 'kielteinen\\n', 'persoona\\n', 'myönteinen\\n', 'kielteinen\\n', 'minä\\n', \\\n",
    "                  'sinä\\n','hän\\n','me\\n','-\"-\\n','te', 'Te\\n','he\\n','passiivi','imperfekti\\n','pluskvamperfekti\\n', '; ']\n",
    "\n",
    "negatives = ['en ', 'olen ', 'en ole ', 'et ', 'olet ', 'et ole ', 'ei ',  'on ', 'ei ole ', 'emme ', 'olemme ', 'emme ole ',\\\n",
    "             'ette ', 'olette ',  'ette ole ', 'ette ole ', 'eivät ', 'ovat ', 'eivät ole ', 'olin ', 'en ollut ', 'olit ', \\\n",
    "             'et ollut ', 'oli ',  'ei ollut ', 'olimme ', 'emme olleet ', 'olitte ', 'ette olleet ', 'ette olleet ',  'olivat ', \\\n",
    "             'eivät olleet ']\n",
    "\n",
    "cases = [char for char in table_contents if char not in unwanted_chars]\n",
    "\n",
    "cases = [char for char in cases if char not in negatives]\n",
    "\n",
    "cases = list(dict.fromkeys(cases))\n",
    "\n",
    "print(cases)"
   ]
  },
  {
   "cell_type": "code",
   "execution_count": null,
   "id": "electrical-typing",
   "metadata": {},
   "outputs": [],
   "source": [
    "#set options from selected word and randomly selected cases\n",
    "\n",
    "fill_in_blank = sentence.replace(word, '_______')\n",
    "\n",
    "num = randint(0, len(cases)-1)\n",
    "option_2 = cases[num]\n",
    "\n",
    "num = randint(0, len(cases)-1)\n",
    "option_3 = cases[num]\n",
    "\n",
    "#remove word from sentence\n",
    "\n",
    "print(fill_in_blank)\n",
    "print(word)\n",
    "print(option_2)\n",
    "print(option_3)"
   ]
  },
  {
   "cell_type": "code",
   "execution_count": null,
   "id": "given-research",
   "metadata": {},
   "outputs": [],
   "source": [
    "#NOTES if need to conjugate negative words\n",
    "negatives = ['en ', 'olen ', 'en ole ', 'et ', 'olet ', 'et ole ', 'ei ',  'on ', 'ei ole ', 'emme ', 'olemme ', 'emme ole ',\\\n",
    "             'ette ', 'olette ',  'ette ole ', 'ette ole ', 'eivät ', 'ovat ', 'eivät ole ', 'olin ', 'en ollut ', 'olit ', \\\n",
    "             'et ollut ', 'oli ',  'ei ollut ', 'olimme ', 'emme olleet ', 'olitte ', 'ette olleet ', 'ette olleet ',  'olivat ', \\\n",
    "             'eivät olleet ']\n",
    "\n",
    "neg_indices = [cases.index(char) for char in cases if char in negatives]\n",
    "\n",
    "verb_cases = [cases[0], cases[1]+cases[2], cases[3]+cases[4]]\n",
    "\n",
    "print(verb_cases)"
   ]
  },
  {
   "cell_type": "code",
   "execution_count": null,
   "id": "automated-lunch",
   "metadata": {},
   "outputs": [],
   "source": [
    "case_names = ['nominatiivi', 'genetiivi', 'partitiivi', 'akkusatiivi', 'sisäpaikallissijat', 'inessiivi', 'elatiivi', 'illatiivi', 'ulkopaikallissijat', 'adessiivi', 'ablatiivi', 'allatiivi', 'essiivi', 'translatiivi', 'abessiivi', 'instruktiivi', 'komitatiivi', 'positiivi', 'sijamuoto', 'yksikkö', 'monikko']\n",
    "\n",
    "table = ['nominatiivi' , 'nominatiivi', 'tilanne', 'tilanteet', 'genetiivi', 'tilanteen', 'tilanteiden', 'tilanteitten', 'partitiivi', 'tilannetta', 'tilanteita', 'akkusatiivi', 'tilanne; tilanteen', 'tilanteet', 'sisäpaikallissijat', 'inessiivi', 'tilanteessa', 'tilanteissa', 'elatiivi', 'tilanteesta', 'tilanteista', 'illatiivi', 'tilanteeseen', 'tilanteisiin', 'ulkopaikallissijat', 'adessiivi' , 'tilanteella', 'tilanteilla', 'ablatiivi', 'tilanteelta', 'tilanteilta', 'allatiivi', '(tilanteelle)', 'tilanteille', 'sijamuodot', 'essiivi', 'tilanteena', 'tilanteina', 'translatiivi', 'tilanteeksi', 'tilanteiksi', 'abessiivi', 'tilanteetta', 'tilanteitta', 'instruktiivi', '–' , 'tilantein', 'komitatiivi', '–', 'tilanteine-', '+ omistusliite']"
   ]
  },
  {
   "cell_type": "code",
   "execution_count": 2,
   "id": "binding-brisbane",
   "metadata": {},
   "outputs": [
    {
     "ename": "VoikkoException",
     "evalue": "Initialization of Voikko failed: No valid dictionaries were found",
     "output_type": "error",
     "traceback": [
      "\u001b[1;31m---------------------------------------------------------------------------\u001b[0m",
      "\u001b[1;31mVoikkoException\u001b[0m                           Traceback (most recent call last)",
      "\u001b[1;32m<ipython-input-2-2a792de552e1>\u001b[0m in \u001b[0;36m<module>\u001b[1;34m\u001b[0m\n\u001b[0;32m      6\u001b[0m \u001b[1;31m#Voikko.setLibrarySearchPath(r\"C:\\Users\\rache\\Anaconda3\\Lib\\site-packages\\libvoikko-4.3.dist-info\")\u001b[0m\u001b[1;33m\u001b[0m\u001b[1;33m\u001b[0m\u001b[1;33m\u001b[0m\u001b[0m\n\u001b[0;32m      7\u001b[0m \u001b[1;33m\u001b[0m\u001b[0m\n\u001b[1;32m----> 8\u001b[1;33m \u001b[0mv\u001b[0m \u001b[1;33m=\u001b[0m \u001b[0mlibvoikko\u001b[0m\u001b[1;33m.\u001b[0m\u001b[0mVoikko\u001b[0m\u001b[1;33m(\u001b[0m\u001b[1;34mu\"fi\"\u001b[0m\u001b[1;33m)\u001b[0m\u001b[1;33m\u001b[0m\u001b[1;33m\u001b[0m\u001b[0m\n\u001b[0m\u001b[0;32m      9\u001b[0m \u001b[1;33m\u001b[0m\u001b[0m\n\u001b[0;32m     10\u001b[0m \u001b[1;31m#lemmatized = lemmatizer.analyze(\"junassa\")[0]\u001b[0m\u001b[1;33m\u001b[0m\u001b[1;33m\u001b[0m\u001b[1;33m\u001b[0m\u001b[0m\n",
      "\u001b[1;32m~\\Anaconda3\\lib\\site-packages\\libvoikko.py\u001b[0m in \u001b[0;36m__init__\u001b[1;34m(self, language, path)\u001b[0m\n\u001b[0;32m    440\u001b[0m         \u001b[1;32mif\u001b[0m \u001b[0merror\u001b[0m\u001b[1;33m.\u001b[0m\u001b[0mvalue\u001b[0m \u001b[1;32mis\u001b[0m \u001b[1;32mnot\u001b[0m \u001b[1;32mNone\u001b[0m\u001b[1;33m:\u001b[0m\u001b[1;33m\u001b[0m\u001b[1;33m\u001b[0m\u001b[0m\n\u001b[0;32m    441\u001b[0m             \u001b[0mself\u001b[0m\u001b[1;33m.\u001b[0m\u001b[0m__handle\u001b[0m \u001b[1;33m=\u001b[0m \u001b[1;36m0\u001b[0m\u001b[1;33m\u001b[0m\u001b[1;33m\u001b[0m\u001b[0m\n\u001b[1;32m--> 442\u001b[1;33m             \u001b[1;32mraise\u001b[0m \u001b[0mVoikkoException\u001b[0m\u001b[1;33m(\u001b[0m\u001b[1;34m\"Initialization of Voikko failed: \"\u001b[0m \u001b[1;33m+\u001b[0m \u001b[0municode_str\u001b[0m\u001b[1;33m(\u001b[0m\u001b[0merror\u001b[0m\u001b[1;33m.\u001b[0m\u001b[0mvalue\u001b[0m\u001b[1;33m,\u001b[0m \u001b[1;34m\"UTF-8\"\u001b[0m\u001b[1;33m)\u001b[0m\u001b[1;33m)\u001b[0m\u001b[1;33m\u001b[0m\u001b[1;33m\u001b[0m\u001b[0m\n\u001b[0m\u001b[0;32m    443\u001b[0m \u001b[1;33m\u001b[0m\u001b[0m\n\u001b[0;32m    444\u001b[0m     \u001b[1;32mdef\u001b[0m \u001b[0m__del__\u001b[0m\u001b[1;33m(\u001b[0m\u001b[0mself\u001b[0m\u001b[1;33m)\u001b[0m\u001b[1;33m:\u001b[0m\u001b[1;33m\u001b[0m\u001b[1;33m\u001b[0m\u001b[0m\n",
      "\u001b[1;31mVoikkoException\u001b[0m: Initialization of Voikko failed: No valid dictionaries were found"
     ]
    }
   ],
   "source": [
    "import libvoikko\n",
    "from libvoikko import Voikko\n",
    "\n",
    "Voikko.setLibrarySearchPath(r\"C:\\Users\\rache\\Downloads\\data_science\\finnish-app\\Voikko\")\n",
    "\n",
    "#Voikko.setLibrarySearchPath(r\"C:\\Users\\rache\\Anaconda3\\Lib\\site-packages\\libvoikko-4.3.dist-info\")\n",
    "\n",
    "v = libvoikko.Voikko(u\"fi\") \n",
    "\n",
    "#lemmatized = lemmatizer.analyze(\"junassa\")[0]\n",
    "\n",
    "#print(lemmatized['BASEFORM'])\n",
    "\n",
    "#help(Voikko)\n"
   ]
  },
  {
   "cell_type": "code",
   "execution_count": 53,
   "id": "subjective-least",
   "metadata": {},
   "outputs": [
    {
     "name": "stdout",
     "output_type": "stream",
     "text": [
      "[]\n"
     ]
    }
   ],
   "source": [
    "from selenium import webdriver\n",
    "from selenium.webdriver.common.by import By\n",
    "from selenium.webdriver.support.ui import WebDriverWait\n",
    "from selenium.webdriver.support import expected_conditions as EC\n",
    "\n",
    "word = 'joukossa'\n",
    "\n",
    "sanakirja = 'https://www.sanakirja.fi/finnish-english/'+word\n",
    "\n",
    "driver = webdriver.Chrome(\"C:\\\\Users\\\\rache\\\\Downloads\\\\chromedriver_win32\\\\chromedriver.exe\")\n",
    "\n",
    "driver.get(sanakirja)\n",
    "\n",
    "result = driver.find_elements_by_class_name('hw-link text-lang-fi')\n",
    "#result = driver.find_elements_by_xpath('//*[@id=\"sk-application\"]/main/ng-component/div/div[2]/ng-component/div/div[2]/div/suggestions-panel/nav/section[2]/suggestion-items/div/ul/li/a')\n",
    "\n",
    "driver.quit()\n",
    "\n",
    "print(result)"
   ]
  },
  {
   "cell_type": "code",
   "execution_count": 21,
   "id": "incorporate-value",
   "metadata": {},
   "outputs": [
    {
     "name": "stdout",
     "output_type": "stream",
     "text": [
      "\n"
     ]
    }
   ],
   "source": [
    "from selenium import webdriver\n",
    "from selenium.webdriver.common.keys import Keys\n",
    "\n",
    "voikko_url = 'https://www.puimula.org/htp/testing/js-libvoikko/js-libvoikko-demo.html#'\n",
    "\n",
    "driver = webdriver.Chrome(\"C:\\\\Users\\\\rache\\\\Downloads\\\\chromedriver_win32\\\\chromedriver.exe\")\n",
    "\n",
    "driver.get(voikko_url)\n",
    "\n",
    "script_input = '//*[@id=\"theScript\"]'\n",
    "text = 'v.analyze(\"tarina\");'\n",
    "RunTheScript = '//*[@id=\"theForm\"]/div/div[2]/button'\n",
    "\n",
    "#driver.find_element_by_xpath(script_input).clear()\n",
    "#driver.find_element_by_xpath(script_input).send_keys(text)\n",
    "#driver.find_element_by_id(\"theScript\").sendKeys('v.analyze(\"tarina\");');\n",
    "driver.find_element_by_xpath(RunTheScript).click()\n",
    "driver.implicitly_wait(10)\n",
    "result = driver.find_element_by_class_name('voikkoResult').get_attribute('textContent')\n",
    "\n",
    "print(result)\n",
    "\n",
    "driver.quit()\n"
   ]
  },
  {
   "cell_type": "code",
   "execution_count": null,
   "id": "compatible-mapping",
   "metadata": {},
   "outputs": [],
   "source": [
    "<a _ngcontent-uft-c109=\"\" class=\"hw-link text-lang-fi\" lang=\"fi\" aria-current=\"false\" href=\"/finnish-english/joukko\"> joukko </a>\n",
    "\n",
    "<section _ngcontent-uft-c110=\"\" class=\"suggestions-list ng-star-inserted\"><h2 _ngcontent-uft-c110=\"\" class=\"suggestions-heading\">Did you mean...?</h2><suggestion-items _ngcontent-uft-c110=\"\" _nghost-uft-c109=\"\"><div _ngcontent-uft-c109=\"\" class=\"group list-with-commas ng-star-inserted\" lang=\"fi\"><!----><h3 _ngcontent-uft-c109=\"\" class=\"lang-label ng-star-inserted\"> Base form (Finnish): </h3><!----><ul _ngcontent-uft-c109=\"\"><li _ngcontent-uft-c109=\"\" class=\"ng-star-inserted\"><span _ngcontent-uft-c109=\"\" class=\"ng-star-inserted\"></span><!----><a _ngcontent-uft-c109=\"\" class=\"hw-link text-lang-fi\" lang=\"fi\" aria-current=\"false\" href=\"/finnish-english/joukko\"> joukko </a><!----></li><!----></ul></div><!----><!----><!----><!----></suggestion-items></section>\n",
    "    \n",
    "<suggestions-panel _ngcontent-hkr-c114=\"\" class=\"list-content ng-tns-c114-8 closed\" _nghost-hkr-c110=\"\"><nav _ngcontent-hkr-c110=\"\" aria-labelledby=\"results-heading\" class=\"suggestions-wrapper\"><div _ngcontent-hkr-c110=\"\" class=\"spinner-area\" hidden=\"\"><sk-spinner _ngcontent-hkr-c110=\"\" _nghost-hkr-c57=\"\"><div _ngcontent-hkr-c57=\"\" class=\"spinner-container medium\"><svg _ngcontent-hkr-c57=\"\" xmlns=\"http://www.w3.org/2000/svg\" viewBox=\"0 0 100 100\" class=\"spinner\"><path _ngcontent-hkr-c57=\"\" d=\"M50,0a50,50,0,1,0,50,50A50,50,0,0,0,50,0Zm0,85A35,35,0,1,1,85,50,35,35,0,0,1,50,85Z\" class=\"ring\"></path><path _ngcontent-hkr-c57=\"\" d=\"M100,50H85A35,35,0,0,0,50,15V0A50,50,0,0,1,100,50Z\" class=\"ringlet\"></path></svg></div></sk-spinner></div><section _ngcontent-hkr-c110=\"\" class=\"browsing-list ng-star-inserted\"><a _ngcontent-hkr-c110=\"\" href=\"#\" jumplink=\"\" jumpto=\"dict-results\" class=\"focus-only\"> Skip results list </a><h2 _ngcontent-hkr-c110=\"\" id=\"results-heading\" class=\"results-heading ng-star-inserted\"><span _ngcontent-hkr-c110=\"\">Results</span><span _ngcontent-hkr-c110=\"\" class=\"language ng-star-inserted\"> (Finnish) </span><!----></h2><!----><!----><suggestion-items _ngcontent-hkr-c110=\"\" _nghost-hkr-c109=\"\"><div _ngcontent-hkr-c109=\"\" class=\"group item-per-row ng-star-inserted\" lang=\"fi\"><!----><!----><ul _ngcontent-hkr-c109=\"\"><li _ngcontent-hkr-c109=\"\" class=\"ng-star-inserted\"><span _ngcontent-hkr-c109=\"\" class=\"lock-icon fa-lock ng-star-inserted\"></span><!----><a _ngcontent-hkr-c109=\"\" class=\"hw-link text-lang-fi highlight\" lang=\"fi\" aria-current=\"true\" href=\"/finnish-english/joukossa\"> joukossa </a><!----></li><!----></ul></div><!----><!----><!----><!----></suggestion-items></section><section _ngcontent-hkr-c110=\"\" class=\"suggestions-list ng-star-inserted\"><h2 _ngcontent-hkr-c110=\"\" class=\"suggestions-heading\">Did you mean...?</h2><suggestion-items _ngcontent-hkr-c110=\"\" _nghost-hkr-c109=\"\"><div _ngcontent-hkr-c109=\"\" class=\"group list-with-commas ng-star-inserted\" lang=\"fi\"><!----><h3 _ngcontent-hkr-c109=\"\" class=\"lang-label ng-star-inserted\"> Base form (Finnish): </h3><!----><ul _ngcontent-hkr-c109=\"\"><li _ngcontent-hkr-c109=\"\" class=\"ng-star-inserted\"><span _ngcontent-hkr-c109=\"\" class=\"ng-star-inserted\"></span><!----><a _ngcontent-hkr-c109=\"\" class=\"hw-link text-lang-fi\" lang=\"fi\" aria-current=\"false\" href=\"/finnish-english/joukko\"> joukko </a><!----></li><!----></ul></div><!----><!----><!----><!----></suggestion-items></section><!----><!----><!----></nav></suggestions-panel>\n"
   ]
  },
  {
   "cell_type": "code",
   "execution_count": 52,
   "id": "disturbed-input",
   "metadata": {},
   "outputs": [
    {
     "name": "stdout",
     "output_type": "stream",
     "text": [
      "['html', 'Sanakirja.fi (suomi-englanti) - Ilmainen sanakirja', \"@font-face{font-family:'Montserrat';font-style:normal;font-weight:300;src:url(https://fonts.gstatic.com/s/montserrat/v15/JTURjIg1_i6t8kCHKm45_cJD3gnD-A.woff) format('woff');}@font-face{font-family:'Montserrat';font-style:normal;font-weight:400;src:url(https://fonts.gstatic.com/s/montserrat/v15/JTUSjIg1_i6t8kCHKm459WlhzQ.woff) format('woff');}@font-face{font-family:'Montserrat';font-style:normal;font-weight:600;src:url(https://fonts.gstatic.com/s/montserrat/v15/JTURjIg1_i6t8kCHKm45_bZF3gnD-A.woff) format('woff');}@font-face{font-family:'Montserrat';font-style:normal;font-weight:700;src:url(https://fonts.gstatic.com/s/montserrat/v15/JTURjIg1_i6t8kCHKm45_dJE3gnD-A.woff) format('woff');}@font-face{font-family:'Montserrat';font-style:normal;font-weight:300;src:url(https://fonts.gstatic.com/s/montserrat/v15/JTURjIg1_i6t8kCHKm45_cJD3gTD_vx3rCubqg.woff2) format('woff2');unicode-range:U+0460-052F, U+1C80-1C88, U+20B4, U+2DE0-2DFF, U+A640-A69F, U+FE2E-FE2F;}@font-face{font-family:'Montserrat';font-style:normal;font-weight:300;src:url(https://fonts.gstatic.com/s/montserrat/v15/JTURjIg1_i6t8kCHKm45_cJD3g3D_vx3rCubqg.woff2) format('woff2');unicode-range:U+0400-045F, U+0490-0491, U+04B0-04B1, U+2116;}@font-face{font-family:'Montserrat';font-style:normal;font-weight:300;src:url(https://fonts.gstatic.com/s/montserrat/v15/JTURjIg1_i6t8kCHKm45_cJD3gbD_vx3rCubqg.woff2) format('woff2');unicode-range:U+0102-0103, U+0110-0111, U+0128-0129, U+0168-0169, U+01A0-01A1, U+01AF-01B0, U+1EA0-1EF9, U+20AB;}@font-face{font-family:'Montserrat';font-style:normal;font-weight:300;src:url(https://fonts.gstatic.com/s/montserrat/v15/JTURjIg1_i6t8kCHKm45_cJD3gfD_vx3rCubqg.woff2) format('woff2');unicode-range:U+0100-024F, U+0259, U+1E00-1EFF, U+2020, U+20A0-20AB, U+20AD-20CF, U+2113, U+2C60-2C7F, U+A720-A7FF;}@font-face{font-family:'Montserrat';font-style:normal;font-weight:300;src:url(https://fonts.gstatic.com/s/montserrat/v15/JTURjIg1_i6t8kCHKm45_cJD3gnD_vx3rCs.woff2) format('woff2');unicode-range:U+0000-00FF, U+0131, U+0152-0153, U+02BB-02BC, U+02C6, U+02DA, U+02DC, U+2000-206F, U+2074, U+20AC, U+2122, U+2191, U+2193, U+2212, U+2215, U+FEFF, U+FFFD;}@font-face{font-family:'Montserrat';font-style:normal;font-weight:400;src:url(https://fonts.gstatic.com/s/montserrat/v15/JTUSjIg1_i6t8kCHKm459WRhyyTh89ZNpQ.woff2) format('woff2');unicode-range:U+0460-052F, U+1C80-1C88, U+20B4, U+2DE0-2DFF, U+A640-A69F, U+FE2E-FE2F;}@font-face{font-family:'Montserrat';font-style:normal;font-weight:400;src:url(https://fonts.gstatic.com/s/montserrat/v15/JTUSjIg1_i6t8kCHKm459W1hyyTh89ZNpQ.woff2) format('woff2');unicode-range:U+0400-045F, U+0490-0491, U+04B0-04B1, U+2116;}@font-face{font-family:'Montserrat';font-style:normal;font-weight:400;src:url(https://fonts.gstatic.com/s/montserrat/v15/JTUSjIg1_i6t8kCHKm459WZhyyTh89ZNpQ.woff2) format('woff2');unicode-range:U+0102-0103, U+0110-0111, U+0128-0129, U+0168-0169, U+01A0-01A1, U+01AF-01B0, U+1EA0-1EF9, U+20AB;}@font-face{font-family:'Montserrat';font-style:normal;font-weight:400;src:url(https://fonts.gstatic.com/s/montserrat/v15/JTUSjIg1_i6t8kCHKm459WdhyyTh89ZNpQ.woff2) format('woff2');unicode-range:U+0100-024F, U+0259, U+1E00-1EFF, U+2020, U+20A0-20AB, U+20AD-20CF, U+2113, U+2C60-2C7F, U+A720-A7FF;}@font-face{font-family:'Montserrat';font-style:normal;font-weight:400;src:url(https://fonts.gstatic.com/s/montserrat/v15/JTUSjIg1_i6t8kCHKm459WlhyyTh89Y.woff2) format('woff2');unicode-range:U+0000-00FF, U+0131, U+0152-0153, U+02BB-02BC, U+02C6, U+02DA, U+02DC, U+2000-206F, U+2074, U+20AC, U+2122, U+2191, U+2193, U+2212, U+2215, U+FEFF, U+FFFD;}@font-face{font-family:'Montserrat';font-style:normal;font-weight:600;src:url(https://fonts.gstatic.com/s/montserrat/v15/JTURjIg1_i6t8kCHKm45_bZF3gTD_vx3rCubqg.woff2) format('woff2');unicode-range:U+0460-052F, U+1C80-1C88, U+20B4, U+2DE0-2DFF, U+A640-A69F, U+FE2E-FE2F;}@font-face{font-family:'Montserrat';font-style:normal;font-weight:600;src:url(https://fonts.gstatic.com/s/montserrat/v15/JTURjIg1_i6t8kCHKm45_bZF3g3D_vx3rCubqg.woff2) format('woff2');unicode-range:U+0400-045F, U+0490-0491, U+04B0-04B1, U+2116;}@font-face{font-family:'Montserrat';font-style:normal;font-weight:600;src:url(https://fonts.gstatic.com/s/montserrat/v15/JTURjIg1_i6t8kCHKm45_bZF3gbD_vx3rCubqg.woff2) format('woff2');unicode-range:U+0102-0103, U+0110-0111, U+0128-0129, U+0168-0169, U+01A0-01A1, U+01AF-01B0, U+1EA0-1EF9, U+20AB;}@font-face{font-family:'Montserrat';font-style:normal;font-weight:600;src:url(https://fonts.gstatic.com/s/montserrat/v15/JTURjIg1_i6t8kCHKm45_bZF3gfD_vx3rCubqg.woff2) format('woff2');unicode-range:U+0100-024F, U+0259, U+1E00-1EFF, U+2020, U+20A0-20AB, U+20AD-20CF, U+2113, U+2C60-2C7F, U+A720-A7FF;}@font-face{font-family:'Montserrat';font-style:normal;font-weight:600;src:url(https://fonts.gstatic.com/s/montserrat/v15/JTURjIg1_i6t8kCHKm45_bZF3gnD_vx3rCs.woff2) format('woff2');unicode-range:U+0000-00FF, U+0131, U+0152-0153, U+02BB-02BC, U+02C6, U+02DA, U+02DC, U+2000-206F, U+2074, U+20AC, U+2122, U+2191, U+2193, U+2212, U+2215, U+FEFF, U+FFFD;}@font-face{font-family:'Montserrat';font-style:normal;font-weight:700;src:url(https://fonts.gstatic.com/s/montserrat/v15/JTURjIg1_i6t8kCHKm45_dJE3gTD_vx3rCubqg.woff2) format('woff2');unicode-range:U+0460-052F, U+1C80-1C88, U+20B4, U+2DE0-2DFF, U+A640-A69F, U+FE2E-FE2F;}@font-face{font-family:'Montserrat';font-style:normal;font-weight:700;src:url(https://fonts.gstatic.com/s/montserrat/v15/JTURjIg1_i6t8kCHKm45_dJE3g3D_vx3rCubqg.woff2) format('woff2');unicode-range:U+0400-045F, U+0490-0491, U+04B0-04B1, U+2116;}@font-face{font-family:'Montserrat';font-style:normal;font-weight:700;src:url(https://fonts.gstatic.com/s/montserrat/v15/JTURjIg1_i6t8kCHKm45_dJE3gbD_vx3rCubqg.woff2) format('woff2');unicode-range:U+0102-0103, U+0110-0111, U+0128-0129, U+0168-0169, U+01A0-01A1, U+01AF-01B0, U+1EA0-1EF9, U+20AB;}@font-face{font-family:'Montserrat';font-style:normal;font-weight:700;src:url(https://fonts.gstatic.com/s/montserrat/v15/JTURjIg1_i6t8kCHKm45_dJE3gfD_vx3rCubqg.woff2) format('woff2');unicode-range:U+0100-024F, U+0259, U+1E00-1EFF, U+2020, U+20A0-20AB, U+20AD-20CF, U+2113, U+2C60-2C7F, U+A720-A7FF;}@font-face{font-family:'Montserrat';font-style:normal;font-weight:700;src:url(https://fonts.gstatic.com/s/montserrat/v15/JTURjIg1_i6t8kCHKm45_dJE3gnD_vx3rCs.woff2) format('woff2');unicode-range:U+0000-00FF, U+0131, U+0152-0153, U+02BB-02BC, U+02C6, U+02DA, U+02DC, U+2000-206F, U+2074, U+20AC, U+2122, U+2191, U+2193, U+2212, U+2215, U+FEFF, U+FFFD;}\", 'window.MSInputMethodContext&&document.documentMode&&document.write(\\'<script src=\"https://cdn.jsdelivr.net/gh/nuxodin/ie11CustomProperties@4.1.0/ie11CustomProperties.min.js\"><\\\\/script>\\')', 'function getCookie(e){const t=`; ${document.cookie}`,o=t.split(`; ${e}=`);if(2===o.length)return o.pop().split(\";\").shift()}function setCookie(e){let t=window.location.hostname;-1<t.indexOf(\"www.\")&&(t=t.replace(\"www.\",\"\")),\"localhost\"===t?document.cookie=e+\"=true; expires=Thu, 31 Dec 2099 23:59:59 UTC; path=/\":document.cookie=e+\"=true; expires=Thu, 31 Dec 2099 23:59:59 UTC; domain=.\"+t+\"; path=/\"}!function(e,t,o,i,n){n&&(e[i]=e[i]||[],e[i].push({\"gtm.start\":(new Date).getTime(),event:\"gtm.js\"}),i=t.getElementsByTagName(o)[0],(o=t.createElement(o)).async=!\"\",o.src=\"https://www.googletagmanager.com/gtm.js?id=\"+n,i.parentNode.insertBefore(o,i))}(window,document,\"script\",\"dataLayer\",window.appConfig&&window.appConfig.tagManagerId),getCookie(\"_ga\")||getCookie(\"_gid\")||setCookie(\"ga-opt-out\"),getCookie(\"_lfa\")||setCookie(\"lf-opt-out\")', 'new RegExp(\"#!/\").test(window.location.href)&&window.location.replace(\"/forbidden/404\"),-1<window.location.href.indexOf(\"//sanakirja.fi\")&&window.location.replace(window.location.href.replace(\"://\",\"://www.\"))', '.splash {\\n      display: none;\\n    }', 'Please enable JavaScript to continue using this service. | Varmista, että selaimesi sallii JavaScriptin käytön tällä sivustolla. | Aktivera JavaScript i din webbläsare om du vill fortsätta använda tjänsten.']\n"
     ]
    }
   ],
   "source": [
    "word = 'joukossa'\n",
    "\n",
    "sanakirja = 'https://www.sanakirja.fi/finnish-english/'+word\n",
    "\n",
    "response=requests.get(sanakirja)\n",
    "\n",
    "soup = BeautifulSoup(response.text, 'html.parser')\n",
    "\n",
    "#suggestions=soup.find_all('div',{'class':\"hw-link text-lang-fi\"})\n",
    "texts = soup.findAll(text=True)\n",
    "\n",
    "#output = suggestions.findAll(text=True)\n",
    "\n",
    "print(texts)"
   ]
  },
  {
   "cell_type": "code",
   "execution_count": null,
   "id": "labeled-sapphire",
   "metadata": {},
   "outputs": [],
   "source": []
  }
 ],
 "metadata": {
  "kernelspec": {
   "display_name": "Python 3",
   "language": "python",
   "name": "python3"
  },
  "language_info": {
   "codemirror_mode": {
    "name": "ipython",
    "version": 3
   },
   "file_extension": ".py",
   "mimetype": "text/x-python",
   "name": "python",
   "nbconvert_exporter": "python",
   "pygments_lexer": "ipython3",
   "version": "3.7.7"
  }
 },
 "nbformat": 4,
 "nbformat_minor": 5
}
